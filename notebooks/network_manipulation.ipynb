{
 "cells": [
  {
   "cell_type": "markdown",
   "metadata": {},
   "source": [
    "# Network Manipulation"
   ]
  },
  {
   "cell_type": "markdown",
   "metadata": {},
   "source": [
    "This notebook is for various network editing, merging, comparsions, etc"
   ]
  },
  {
   "cell_type": "code",
   "execution_count": null,
   "metadata": {},
   "outputs": [],
   "source": [
    "import gtfs_functions as gtfs\n",
    "import geopandas as gpd\n",
    "import pandas as pd"
   ]
  },
  {
   "cell_type": "markdown",
   "metadata": {},
   "source": [
    "## Merging and dropping duplicates"
   ]
  },
  {
   "cell_type": "markdown",
   "metadata": {},
   "source": [
    "Merging two networks for differences"
   ]
  },
  {
   "cell_type": "code",
   "execution_count": null,
   "metadata": {},
   "outputs": [],
   "source": [
    "df = pd.read_csv(\"./ta_edge_list.csv\")\n",
    "print(df)\n",
    "\n",
    "df2 = pd.read_csv(\"./../../../networks/carta/carta_edge_list_new.csv\")\n",
    "print(df2)\n",
    "\n",
    "df3 = pd.concat([df,df2]).drop_duplicates(keep=False)\n",
    "df3\n",
    "# df3.to_csv(\"./check.csv\", index=False)"
   ]
  },
  {
   "cell_type": "markdown",
   "metadata": {},
   "source": [
    "OD Matrices merging for differences"
   ]
  },
  {
   "cell_type": "code",
   "execution_count": null,
   "metadata": {},
   "outputs": [],
   "source": [
    "import pandas as pd \n",
    "\n",
    "df2 = pd.read_csv(\"./../../../networks/l_star/carta_od_1.csv\")\n",
    "df = pd.read_csv(\"./../../../networks/l_star/carta_od_75.csv\")\n",
    "df3 = pd.concat([df,df2]).drop_duplicates(keep=False)\n",
    "df3\n",
    "# df3.to_csv(\"./check_od.csv\", index=False)"
   ]
  }
 ],
 "metadata": {
  "language_info": {
   "name": "python"
  }
 },
 "nbformat": 4,
 "nbformat_minor": 2
}
